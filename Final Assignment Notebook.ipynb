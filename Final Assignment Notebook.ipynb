{
 "cells": [
  {
   "cell_type": "markdown",
   "metadata": {
    "collapsed": true
   },
   "source": [
    "# My Jupyter Notebook on IBM Watson Studio"
   ]
  },
  {
   "cell_type": "markdown",
   "metadata": {},
   "source": [
    "__Geoff Crowley__\n",
    "Quality Control Engineer"
   ]
  },
  {
   "cell_type": "markdown",
   "metadata": {},
   "source": [
    "_I am interested in data science because I like to play with data and I want to leverage the powerful capabilities of ML models to make useful predictions and observations about this data._"
   ]
  },
  {
   "cell_type": "markdown",
   "metadata": {},
   "source": [
    "### In cell 5 my code is supposed to print \"Let's learn some data science!\""
   ]
  },
  {
   "cell_type": "code",
   "execution_count": 3,
   "metadata": {},
   "outputs": [
    {
     "name": "stdout",
     "output_type": "stream",
     "text": [
      "Let's learn some data science!\n"
     ]
    }
   ],
   "source": [
    "print(\"Let's learn some data science!\")"
   ]
  },
  {
   "cell_type": "markdown",
   "metadata": {},
   "source": [
    "| Tools for Data Science | True/False |\n",
    "| -----------------------| ---------- |\n",
    "| Jupyter Notebooks      | True       |\n",
    "| Git/GitHub             | True       |\n",
    "| RStudio                | True       |"
   ]
  },
  {
   "cell_type": "markdown",
   "metadata": {},
   "source": [
    "#### Below is a list of stages in a data science pipeline: \n",
    "***\n",
    "    1. Data Storage\n",
    "    2. Data Transformation\n",
    "    3. Data Visualization\n",
    "    4. Data Modelling\n",
    "    5. Model Review"
   ]
  },
  {
   "cell_type": "markdown",
   "metadata": {},
   "source": [
    "##### Python code for fun:\n",
    "***\n",
    "``for x in range(3):\n",
    "    print(\"Data science is fun!\")``"
   ]
  },
  {
   "cell_type": "code",
   "execution_count": null,
   "metadata": {},
   "outputs": [],
   "source": []
  }
 ],
 "metadata": {
  "kernelspec": {
   "display_name": "Python 3.9",
   "language": "python",
   "name": "python3"
  },
  "language_info": {
   "codemirror_mode": {
    "name": "ipython",
    "version": 3
   },
   "file_extension": ".py",
   "mimetype": "text/x-python",
   "name": "python",
   "nbconvert_exporter": "python",
   "pygments_lexer": "ipython3",
   "version": "3.9.12"
  }
 },
 "nbformat": 4,
 "nbformat_minor": 1
}
